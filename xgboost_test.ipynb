{
 "cells": [
  {
   "cell_type": "code",
   "execution_count": 1,
   "metadata": {},
   "outputs": [],
   "source": [
    "import pandas as pd\n",
    "import numpy as np\n",
    "import sys\n",
    "import xgboost as xgb\n",
    "from sklearn.metrics import mean_squared_error"
   ]
  },
  {
   "cell_type": "code",
   "execution_count": 2,
   "metadata": {},
   "outputs": [],
   "source": [
    "cols = 4\n",
    "col_names = []\n",
    "for i in range(cols):\n",
    "    col_names.append( 'r' + str(i+1))\n",
    "\n",
    "rows = 10000\n",
    "train_rows = int(rows * 0.75)\n",
    "\n",
    "df = pd.DataFrame(np.random.randn(rows, cols), columns=col_names)\n",
    "X = df\n",
    "y = df.r1/df.r2  # + 0.0000000000000001) + df.r3 * df.r4\n",
    "\n",
    "X_train = X[:train_rows]\n",
    "y_train = y[:train_rows]\n",
    "X_test = X[train_rows:]\n",
    "y_test = y[train_rows:]\n"
   ]
  },
  {
   "cell_type": "code",
   "execution_count": null,
   "metadata": {},
   "outputs": [],
   "source": [
    "prev_rmse = None\n",
    "for d in range(2,16):\n",
    "    #lgb_model = lgb.LGBMModel()\n",
    "    est = xgb.XGBRegressor(max_depth = d)\n",
    "    est.fit(X_train, y_train)\n",
    "    predict = est.predict( X_test)\n",
    "    mse = mean_squared_error(y_test, predict)\n",
    "    rmse = mse ** 0.5\n",
    "    print(rmse)\n",
    "    if (not prev_rmse is None) and prev_rmse < rmse:\n",
    "        print('early finish at ', d)\n",
    "        break\n",
    "    prev_rmse = rmse"
   ]
  },
  {
   "cell_type": "code",
   "execution_count": null,
   "metadata": {},
   "outputs": [],
   "source": [
    "params = {'key': [1,2,3] }\n",
    "param_name = list(params.keys())[0]\n",
    "param_values = params[param_name]\n",
    "print(param_values[0])"
   ]
  },
  {
   "cell_type": "code",
   "execution_count": 9,
   "metadata": {},
   "outputs": [
    {
     "name": "stdout",
     "output_type": "stream",
     "text": [
      "82.01128170410651\n"
     ]
    }
   ],
   "source": [
    "# xgb.Booster.set_param( self=xgb.Booster(), params='max_depth', value=4)\n",
    "#xgb.Booster().set_param( params='max_depth', value=12)\n",
    "est = xgb.XGBRegressor()\n",
    "params={'max_depth': 6}\n",
    "est.set_params(**params)\n",
    "est.fit(X_train, y_train)\n",
    "predict = est.predict( X_test)\n",
    "mse = mean_squared_error(y_test, predict)\n",
    "rmse = mse ** 0.5\n",
    "print(rmse)\n"
   ]
  },
  {
   "cell_type": "code",
   "execution_count": null,
   "metadata": {},
   "outputs": [],
   "source": [
    "est.get_params().keys()\n"
   ]
  }
 ],
 "metadata": {
  "kernelspec": {
   "display_name": "Python 3",
   "language": "python",
   "name": "python3"
  },
  "language_info": {
   "codemirror_mode": {
    "name": "ipython",
    "version": 3
   },
   "file_extension": ".py",
   "mimetype": "text/x-python",
   "name": "python",
   "nbconvert_exporter": "python",
   "pygments_lexer": "ipython3",
   "version": "3.6.5"
  }
 },
 "nbformat": 4,
 "nbformat_minor": 2
}
