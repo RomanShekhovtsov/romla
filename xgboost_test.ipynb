{
 "cells": [
  {
   "cell_type": "code",
   "execution_count": 7,
   "metadata": {},
   "outputs": [],
   "source": [
    "import xgboost as xgb\n",
    "import lightgbm\n",
    "import catboost\n",
    "import pandas as pd\n",
    "import numpy as np\n",
    "from sklearn.metrics import mean_squared_error\n"
   ]
  },
  {
   "cell_type": "code",
   "execution_count": 46,
   "metadata": {},
   "outputs": [],
   "source": [
    "folder = r'..\\check_2_r\\\\'\n",
    "df = pd.read_csv(folder + 'train.csv')\n",
    "df = df.select_dtypes(['int','int32','int64','float'])\n",
    "X = df.drop('target', axis=1)\n",
    "y = df.target\n",
    "\n",
    "X_test = pd.read_csv(folder + 'test.csv').select_dtypes(['int','int32','int64','float'])\n",
    "y_test = pd.read_csv(folder + 'test-target.csv')\n"
   ]
  },
  {
   "cell_type": "code",
   "execution_count": 68,
   "metadata": {},
   "outputs": [
    {
     "name": "stdout",
     "output_type": "stream",
     "text": [
      "1.5326115644762617\n",
      "1.5110332275637237\n",
      "1.47378300633781\n",
      "1.4728537123845704\n",
      "1.462889480244025\n",
      "1.4630496218515399\n",
      "1.4667628749569925\n",
      "1.4791345416387713\n",
      "1.4754629983306569\n",
      "1.487529379174174\n",
      "1.5024434470525712\n",
      "1.5030504793925992\n",
      "1.529427884787344\n"
     ]
    }
   ],
   "source": [
    "booster = xgb.Booster()\n",
    "for d in range(3,16):\n",
    "    est = xgb.XGBRegressor(max_depth=d,)\n",
    "    est.fit(X, y)\n",
    "    predict = est.predict(X_test)\n",
    "\n",
    "    mse = mean_squared_error( y_test.target, predict)\n",
    "    rmse = mse ** 0.5\n",
    "    print(rmse)"
   ]
  },
  {
   "cell_type": "code",
   "execution_count": 66,
   "metadata": {},
   "outputs": [
    {
     "name": "stdout",
     "output_type": "stream",
     "text": [
      "1.4728537123845704\n"
     ]
    }
   ],
   "source": [
    "\n",
    "prediction = df['line_id']\n",
    "prediction['predict'] = predict\n"
   ]
  }
 ],
 "metadata": {
  "kernelspec": {
   "display_name": "Python 3",
   "language": "python",
   "name": "python3"
  },
  "language_info": {
   "codemirror_mode": {
    "name": "ipython",
    "version": 3
   },
   "file_extension": ".py",
   "mimetype": "text/x-python",
   "name": "python",
   "nbconvert_exporter": "python",
   "pygments_lexer": "ipython3",
   "version": "3.6.5"
  }
 },
 "nbformat": 4,
 "nbformat_minor": 2
}
