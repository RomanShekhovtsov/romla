{
 "cells": [
  {
   "cell_type": "code",
   "execution_count": 10,
   "metadata": {},
   "outputs": [
    {
     "name": "stdout",
     "output_type": "stream",
     "text": [
      "<class 'pandas.core.frame.DataFrame'>\n",
      "RangeIndex: 10 entries, 0 to 9\n",
      "Data columns (total 3 columns):\n",
      "0    8 non-null float64\n",
      "1    8 non-null float64\n",
      "2    7 non-null float64\n",
      "dtypes: float64(3)\n",
      "memory usage: 320.0 bytes\n"
     ]
    },
    {
     "data": {
      "text/plain": [
       "344"
      ]
     },
     "execution_count": 10,
     "metadata": {},
     "output_type": "execute_result"
    }
   ],
   "source": [
    "import pandas as pd\n",
    "import numpy as np\n",
    "import sys\n",
    "df = pd.DataFrame(np.random.randn(10,3))\n",
    "df = df.applymap(lambda x: round(x*10,0))\n",
    "\n",
    "#np.random.randn(10,3)\n",
    "\n",
    "df.iloc[3:5,0] = np.nan\n",
    "df.iloc[4:6,1] = np.nan\n",
    "df.iloc[5:8,2] = np.nan\n",
    "df.info()\n",
    "sys.getsizeof(df)"
   ]
  },
  {
   "cell_type": "code",
   "execution_count": 6,
   "metadata": {},
   "outputs": [
    {
     "data": {
      "text/plain": [
       "PCA(copy=True, iterated_power='auto', n_components=None, random_state=None,\n",
       "  svd_solver='auto', tol=0.0, whiten=False)"
      ]
     },
     "execution_count": 6,
     "metadata": {},
     "output_type": "execute_result"
    }
   ],
   "source": [
    "from sklearn.decomposition import PCA\n",
    "\n",
    "\n",
    "file_name = r'..\\check_8_c\\train.csv'\n",
    "df = pd.read_csv(file_name, nrows=100, low_memory=False )\n",
    "df_X = df.drop('target', axis=1)\n",
    "number_columns = [\n",
    "    col_name\n",
    "    for col_name in df_X.columns\n",
    "    if col_name.startswith('number')\n",
    "]\n",
    "df_X = df_X[number_columns]\n",
    "df_X.fillna(-1, inplace=True)\n",
    "\n",
    "pca = PCA()\n",
    "pca\n",
    "#pca.fit_transform(df_X)\n",
    "#expl_var[ expl_var > max()]"
   ]
  },
  {
   "cell_type": "code",
   "execution_count": 56,
   "metadata": {},
   "outputs": [
    {
     "name": "stdout",
     "output_type": "stream",
     "text": [
      "24\n"
     ]
    },
    {
     "data": {
      "text/plain": [
       "753"
      ]
     },
     "execution_count": 56,
     "metadata": {},
     "output_type": "execute_result"
    }
   ],
   "source": [
    "expl_var_ratio = pca.explained_variance_ratio_\n",
    "i = 0\n",
    "sum_ratio = 0\n",
    "for x in expl_var_ratio:\n",
    "    sum_ratio +=x\n",
    "    i += 1\n",
    "    if sum_ratio >.99:\n",
    "        break\n",
    "print(i)\n",
    "np.sum(expl_var_ratio[:i])\n",
    "len(pca.components_[0])\n",
    "#expl_var = pca.explained_variance_\n",
    "#max_expl_var = max(expl_var)\n",
    "#expl_var[ expl_var > max_expl_var * 0.01]"
   ]
  },
  {
   "cell_type": "code",
   "execution_count": 17,
   "metadata": {},
   "outputs": [
    {
     "data": {
      "text/plain": [
       "'\\nfrom sklearn.linear_model import LogisticRegression\\nr = LogisticRegression()\\nr.predict()\\n'"
      ]
     },
     "execution_count": 17,
     "metadata": {},
     "output_type": "execute_result"
    }
   ],
   "source": [
    "from xgboost import XGBRegressor\n",
    "model = XGBRegressor()\n",
    "a = {'a':1, 'b':2}\n",
    "\n",
    "import os\n",
    "d = pd.DataFrame([a])\n",
    "header = not os.path.isfile('metrics.csv')\n",
    "d.to_csv('metrics.csv', mode='a', index=False,header=header )\n",
    "\n",
    "\n",
    "\"\"\"\n",
    "from sklearn.linear_model import LogisticRegression\n",
    "r = LogisticRegression()\n",
    "r.predict()\n",
    "\"\"\""
   ]
  },
  {
   "cell_type": "code",
   "execution_count": 151,
   "metadata": {},
   "outputs": [
    {
     "ename": "FileNotFoundError",
     "evalue": "[WinError 3] Системе не удается найти указанный путь: 'C:\\\\ds\\\\sdsj\\\\check_8_c\\\\train.csv'",
     "output_type": "error",
     "traceback": [
      "\u001b[1;31m---------------------------------------------------------------------------\u001b[0m",
      "\u001b[1;31mFileNotFoundError\u001b[0m                         Traceback (most recent call last)",
      "\u001b[1;32m<ipython-input-151-087e9f4dc59f>\u001b[0m in \u001b[0;36m<module>\u001b[1;34m()\u001b[0m\n\u001b[0;32m      1\u001b[0m \u001b[1;32mimport\u001b[0m \u001b[0mos\u001b[0m\u001b[1;33m\u001b[0m\u001b[0m\n\u001b[0;32m      2\u001b[0m \u001b[0mfile_name\u001b[0m \u001b[1;33m=\u001b[0m \u001b[1;34mr'C:\\ds\\sdsj\\check_8_c\\train.csv'\u001b[0m\u001b[1;33m\u001b[0m\u001b[0m\n\u001b[1;32m----> 3\u001b[1;33m \u001b[0mfile_size\u001b[0m \u001b[1;33m=\u001b[0m \u001b[0mos\u001b[0m\u001b[1;33m.\u001b[0m\u001b[0mpath\u001b[0m\u001b[1;33m.\u001b[0m\u001b[0mgetsize\u001b[0m\u001b[1;33m(\u001b[0m\u001b[0mfile_name\u001b[0m\u001b[1;33m)\u001b[0m\u001b[1;33m\u001b[0m\u001b[0m\n\u001b[0m\u001b[0;32m      4\u001b[0m \u001b[1;33m\u001b[0m\u001b[0m\n\u001b[0;32m      5\u001b[0m \"\"\"\n",
      "\u001b[1;32mE:\\ds\\Anaconda3\\lib\\genericpath.py\u001b[0m in \u001b[0;36mgetsize\u001b[1;34m(filename)\u001b[0m\n\u001b[0;32m     48\u001b[0m \u001b[1;32mdef\u001b[0m \u001b[0mgetsize\u001b[0m\u001b[1;33m(\u001b[0m\u001b[0mfilename\u001b[0m\u001b[1;33m)\u001b[0m\u001b[1;33m:\u001b[0m\u001b[1;33m\u001b[0m\u001b[0m\n\u001b[0;32m     49\u001b[0m     \u001b[1;34m\"\"\"Return the size of a file, reported by os.stat().\"\"\"\u001b[0m\u001b[1;33m\u001b[0m\u001b[0m\n\u001b[1;32m---> 50\u001b[1;33m     \u001b[1;32mreturn\u001b[0m \u001b[0mos\u001b[0m\u001b[1;33m.\u001b[0m\u001b[0mstat\u001b[0m\u001b[1;33m(\u001b[0m\u001b[0mfilename\u001b[0m\u001b[1;33m)\u001b[0m\u001b[1;33m.\u001b[0m\u001b[0mst_size\u001b[0m\u001b[1;33m\u001b[0m\u001b[0m\n\u001b[0m\u001b[0;32m     51\u001b[0m \u001b[1;33m\u001b[0m\u001b[0m\n\u001b[0;32m     52\u001b[0m \u001b[1;33m\u001b[0m\u001b[0m\n",
      "\u001b[1;31mFileNotFoundError\u001b[0m: [WinError 3] Системе не удается найти указанный путь: 'C:\\\\ds\\\\sdsj\\\\check_8_c\\\\train.csv'"
     ]
    }
   ],
   "source": [
    "import os\n",
    "file_name = r'C:\\ds\\sdsj\\check_8_c\\train.csv'\n",
    "file_size = os.path.getsize(file_name)\n",
    "\n",
    "\"\"\"\n",
    "df = pd.read_csv(file_name, nrows=100 )\n",
    "df.to_csv('test_row_size.csv', header=False)\n",
    "row_size = os.path.getsize('test_row_size.csv')\n",
    "print('rows estimation', file_size/row_size)\n",
    "\n",
    "usecols=['number_0','wefwefwewe']\n",
    "usecols = df.columns & usecols\n",
    "print(usecols)\n",
    "\"\"\"\n",
    "\n",
    "#df = pd.read_csv(file_name, usecols=usecols, nrows=1000 )\n",
    "df = pd.read_csv(file_name, nrows=1000 )\n",
    "#corr = df[ :df.shape[1] ].corr()\n",
    "#df_corr = pd.DataFrame( corr )\n",
    "\n",
    "#corr_cols = set()\n",
    "#for i in range(df_corr.shape[0]):\n",
    "#    row = df_corr.iloc[i]    \n",
    "#    print(row[row>0.95])\n",
    "\n",
    "    #cols = row.filter(lambda x: abs(x) > 0.95)\n",
    "#        if abs(v) > hyper_params_corr_limit and i != j:\n",
    "#            corr_cols[corr.columns[j]] = True            \n",
    "\n",
    "print(corr_cols)\n",
    "\n",
    "#df = pd.read_csv(r'C:\\ds\\sdsj\\check_8_c\\train.csv', nrows=10 )\n",
    "#df.shape\n",
    "#round(1234,-2)"
   ]
  },
  {
   "cell_type": "code",
   "execution_count": 56,
   "metadata": {},
   "outputs": [
    {
     "data": {
      "text/plain": [
       "0    0.833333\n",
       "1    1.222222\n",
       "2   -2.941176\n",
       "dtype: float64"
      ]
     },
     "execution_count": 56,
     "metadata": {},
     "output_type": "execute_result"
    }
   ],
   "source": [
    "df.mean()"
   ]
  },
  {
   "cell_type": "code",
   "execution_count": 71,
   "metadata": {},
   "outputs": [
    {
     "data": {
      "text/plain": [
       " 9.0     3\n",
       "-11.0    2\n",
       "-9.0     1\n",
       " 5.0     1\n",
       "-19.0    1\n",
       " 19.0    1\n",
       "-7.0     1\n",
       " 1.0     1\n",
       "-0.0     1\n",
       "-27.0    1\n",
       "-13.0    1\n",
       "-16.0    1\n",
       "-2.0     1\n",
       " 13.0    1\n",
       "Name: 2, dtype: int64"
      ]
     },
     "execution_count": 71,
     "metadata": {},
     "output_type": "execute_result"
    }
   ],
   "source": [
    "#df.apply(lambda x: x.fillna(x.mean()), axis=0)\n",
    "#df.fillna\n",
    "\n",
    "df_X = df.copy()\n",
    "df_X[2].value_counts().index[0]\n",
    "\n",
    "#df_X[1].fillna( df_X[1].max(), inplace=True)\n",
    "#df_X"
   ]
  },
  {
   "cell_type": "code",
   "execution_count": 15,
   "metadata": {},
   "outputs": [
    {
     "name": "stdout",
     "output_type": "stream",
     "text": [
      "--train-csv ..\\check_1_r\\train.csv --model-dir . --mode regression\n"
     ]
    }
   ],
   "source": [
    "#train\n",
    "argv = ['--train-csv', r'..\\check_1_r\\train.csv',\n",
    "       '--model-dir', r'.',\n",
    "       '--mode', 'regression']\n",
    "print(' '.join(argv) )"
   ]
  },
  {
   "cell_type": "code",
   "execution_count": 73,
   "metadata": {},
   "outputs": [
    {
     "name": "stdout",
     "output_type": "stream",
     "text": [
      "--test-csv ..\\check_1_r\\test.csv --prediction-csv ..\\check_1_r\\prediction.csv --model-dir .\n"
     ]
    }
   ],
   "source": [
    "#predict\n",
    "argv = ['--test-csv', r'..\\check_1_r\\test.csv',\n",
    "        '--prediction-csv', r'..\\check_1_r\\prediction.csv', \n",
    "       '--model-dir', r'.']\n",
    "print(' '.join(argv) )"
   ]
  },
  {
   "cell_type": "code",
   "execution_count": 74,
   "metadata": {},
   "outputs": [
    {
     "name": "stdout",
     "output_type": "stream",
     "text": [
      "--test-target-csv ..\\check_1_r\\test-target.csv --prediction-csv ..\\check_1_r\\h2o_prediction.csv\n"
     ]
    }
   ],
   "source": [
    "#score\n",
    "argv = ['--test-target-csv', r'..\\check_1_r\\test-target.csv',\n",
    "       '--prediction-csv', r'..\\check_1_r\\h2o_prediction.csv']\n",
    "print(' '.join(argv) )"
   ]
  },
  {
   "cell_type": "code",
   "execution_count": 280,
   "metadata": {},
   "outputs": [
    {
     "name": "stdout",
     "output_type": "stream",
     "text": [
      "Wall time: 38.1 s\n"
     ]
    }
   ],
   "source": [
    "%%time\n",
    "import pandas as pd\n",
    "import sys\n",
    "import os\n",
    "#from tpot import TPOTClassifier, TPOTRegressor\n",
    "#tpotr = TPOTRegressor()\n",
    "df = pd.read_csv(r'..\\check_8_c\\train.csv', nrows=None, low_memory=False)"
   ]
  },
  {
   "cell_type": "code",
   "execution_count": 281,
   "metadata": {},
   "outputs": [
    {
     "name": "stdout",
     "output_type": "stream",
     "text": [
      "True\n",
      "False\n",
      "Wall time: 4.04 s\n"
     ]
    }
   ],
   "source": [
    "%%time\n",
    "#if any(df.isnull()):    \n",
    "#   df.fillna(-1, inplace=True)\n",
    "\n",
    "print(df.isnull().values.any())\n",
    "df.fillna(-1, inplace=True)\n",
    "print(df.isnull().values.any())"
   ]
  },
  {
   "cell_type": "code",
   "execution_count": 43,
   "metadata": {},
   "outputs": [
    {
     "name": "stdout",
     "output_type": "stream",
     "text": [
      "<class 'pandas.core.frame.DataFrame'>\n",
      "RangeIndex: 143525 entries, 0 to 143524\n",
      "Columns: 878 entries, number_0 to line_id\n",
      "dtypes: float64(753), int64(2), object(123)\n",
      "memory usage: 1.6 GB\n"
     ]
    }
   ],
   "source": [
    "df.info(memory_usage='deep')"
   ]
  },
  {
   "cell_type": "code",
   "execution_count": 282,
   "metadata": {},
   "outputs": [
    {
     "name": "stdout",
     "output_type": "stream",
     "text": [
      "<class 'pandas.core.frame.DataFrame'>\n",
      "RangeIndex: 143525 entries, 0 to 143524\n",
      "Columns: 1015 entries, onehot_string_0=МВС to datetime_90\n",
      "dtypes: category(99), float32(753), int32(1), int8(162)\n",
      "memory usage: 471.3 MB\n",
      "Wall time: 16 s\n"
     ]
    }
   ],
   "source": [
    "%%time\n",
    "\n",
    "def transform_ds(df):\n",
    "    int_cols = []\n",
    "    float_cols = []\n",
    "    category_cols = []\n",
    "    other_cols = []\n",
    "    \n",
    "    df_onehot = pd.DataFrame()\n",
    "\n",
    "    for col_name in df.columns:\n",
    "        \n",
    "        n_uniq = df[col_name].nunique()\n",
    "        if n_uniq == 1: # skip constant columns            \n",
    "            continue\n",
    "            \n",
    "        col_type = df.dtypes[col_name]\n",
    "        if col_type in ['int','int64']:\n",
    "            int_cols.append(col_name)\n",
    "        elif col_type in ['float', 'float64']:\n",
    "            float_cols.append(col_name)\n",
    "        elif col_type == 'object':\n",
    "            uniq_values = df[col_name].unique()\n",
    "            total = len( df[col_name] )\n",
    "            if 2 < n_uniq <= 20:\n",
    "                for uniq in uniq_values:\n",
    "                    df_onehot['onehot_{}={}'.format(col_name,uniq)] = (df[col_name] == uniq).astype(int)\n",
    "            elif n_uniq / total < 0.5: \n",
    "                category_cols.append(col_name)\n",
    "            else:\n",
    "                other_cols.append(col_name)\n",
    "        else:\n",
    "            other_cols.append(col_name)\n",
    "\n",
    "    df_opt = df_onehot.apply(pd.to_numeric, downcast='integer')\n",
    "    \n",
    "    if len(int_cols) > 0:\n",
    "        df_opt[int_cols] =  df[int_cols].apply(pd.to_numeric, downcast='integer')\n",
    "    \n",
    "    if len(float_cols) > 0:\n",
    "        df_opt[float_cols] = df[float_cols].apply(pd.to_numeric, downcast='float')\n",
    "        \n",
    "    if len(category_cols) > 0:\n",
    "        df_opt[category_cols] = df[category_cols].astype('category')    \n",
    "        \n",
    "    if len(other_cols) > 0:\n",
    "        df_opt[other_cols] = df[other_cols]\n",
    "\n",
    "    return df_opt\n",
    "\n",
    "df_opt = transform_ds(df)\n",
    "df_opt.info(memory_usage='deep')"
   ]
  },
  {
   "cell_type": "code",
   "execution_count": null,
   "metadata": {},
   "outputs": [],
   "source": [
    "df_opt.dtypes.value_counts()"
   ]
  },
  {
   "cell_type": "code",
   "execution_count": 210,
   "metadata": {},
   "outputs": [
    {
     "name": "stdout",
     "output_type": "stream",
     "text": [
      "rows to remove: 29\n",
      "onehot_string_12=-1\n",
      "onehot_string_13=-1\n",
      "onehot_string_13=CR\n",
      "onehot_string_13=SC\n",
      "onehot_string_13=MA\n",
      "onehot_string_13=CC\n",
      "onehot_datetime_71=2016-08-11\n",
      "onehot_datetime_71=2016-07-13\n",
      "onehot_datetime_71=2015-04-08\n",
      "onehot_datetime_71=2015-04-03\n",
      "onehot_datetime_71=2016-06-02\n",
      "onehot_string_22=PREMIER\n",
      "onehot_string_22=VIP\n",
      "onehot_string_23=PREMIER\n",
      "onehot_string_23=VIP\n",
      "onehot_string_24=PREMIER\n",
      "onehot_string_24=VIP\n",
      "onehot_string_29=-1\n",
      "onehot_string_30=Блокирующий, не террорист\n",
      "number_1\n",
      "number_6\n",
      "number_7\n",
      "number_9\n",
      "number_10\n",
      "number_27\n",
      "number_29\n",
      "number_177\n",
      "number_183\n",
      "number_352\n",
      "Wall time: 2.71 s\n"
     ]
    }
   ],
   "source": [
    "%%time\n",
    "\n",
    "from sklearn.feature_selection import VarianceThreshold # mutual_info_regression\n",
    "fs = VarianceThreshold(0.001)\n",
    "df_nums = df_opt.select_dtypes(include=['float32','int8']) \n",
    "fs.fit(df_nums) # fit_transform(df)\n",
    "\n",
    "supported = fs.get_support()\n",
    "print('rows to remove:', len(supported[supported==False]))\n",
    "#print( df_opt['number_6'].value_counts() )\n",
    "for i in range(len(supported)):\n",
    "    if not supported[i]:\n",
    "        print(df_opt.columns[i])\n"
   ]
  },
  {
   "cell_type": "code",
   "execution_count": 294,
   "metadata": {},
   "outputs": [
    {
     "name": "stdout",
     "output_type": "stream",
     "text": [
      "Wall time: 17.1 s\n"
     ]
    }
   ],
   "source": [
    "%%time\n",
    "from sklearn.feature_selection import mutual_info_regression\n",
    "df_X =df_nums.drop('target',axis=1)\n",
    "df_y = df.target\n",
    "mir = mutual_info_regression(df_X[:1000], df_y[:1000])"
   ]
  },
  {
   "cell_type": "code",
   "execution_count": 295,
   "metadata": {},
   "outputs": [
    {
     "data": {
      "text/plain": [
       "[<matplotlib.lines.Line2D at 0x1b8faba8>]"
      ]
     },
     "execution_count": 295,
     "metadata": {},
     "output_type": "execute_result"
    },
    {
     "data": {
      "image/png": "[encoded data removed]",
      "text/plain": [
       "<Figure size 432x288 with 1 Axes>"
      ]
     },
     "metadata": {},
     "output_type": "display_data"
    }
   ],
   "source": [
    "import matplotlib.pyplot as plt\n",
    "%matplotlib inline\n",
    "plt.plot(mir)\n",
    "#print(len(mir[mir>0.02]))"
   ]
  },
  {
   "cell_type": "code",
   "execution_count": 300,
   "metadata": {},
   "outputs": [
    {
     "name": "stdout",
     "output_type": "stream",
     "text": [
      "Index(['number_251', 'number_349', 'number_589'], dtype='object')\n"
     ]
    }
   ],
   "source": [
    "print(df_X.columns[mir>np.mean(mir) + 4*np.std(mir)])"
   ]
  },
  {
   "cell_type": "code",
   "execution_count": 46,
   "metadata": {},
   "outputs": [
    {
     "data": {
      "text/plain": [
       "[]"
      ]
     },
     "execution_count": 46,
     "metadata": {},
     "output_type": "execute_result"
    }
   ],
   "source": [
    "constant_columns = [\n",
    "        col_name\n",
    "         for col_name in df_opt.columns\n",
    "         if df_opt[col_name].nunique() == 1\n",
    "        ]\n",
    "constant_columns"
   ]
  },
  {
   "cell_type": "code",
   "execution_count": 81,
   "metadata": {},
   "outputs": [
    {
     "name": "stdout",
     "output_type": "stream",
     "text": [
      "False\n"
     ]
    }
   ],
   "source": [
    "print(df_opt.isnull().values.any())\n",
    "\n",
    "#df.fillna(-1, inplace=True)\n",
    "#print(df.isnull().values.any())"
   ]
  },
  {
   "cell_type": "code",
   "execution_count": 15,
   "metadata": {},
   "outputs": [
    {
     "data": {
      "text/plain": [
       "'20183'"
      ]
     },
     "execution_count": 15,
     "metadata": {},
     "output_type": "execute_result"
    }
   ],
   "source": [
    "# %%time\n",
    "import datetime\n",
    "\n",
    "\n",
    "empty_date = datetime.datetime.strptime('0001-01-01', '%Y-%m-%d')\n",
    "\n",
    "\n",
    "def parse_dt(x):\n",
    "    if not isinstance(x, str):\n",
    "        return empty_date\n",
    "    elif len(x) == len('2010-01-01'):\n",
    "        return datetime.datetime.strptime(x, '%Y-%m-%d')\n",
    "    elif len(x) == len('2010-01-01 10:10:10'):\n",
    "        return datetime.datetime.strptime(x, '%Y-%m-%d %H:%M:%S')\n",
    "    else:\n",
    "        return empty_date\n",
    "    \n",
    "\n",
    "def transform_datetime_features(df):\n",
    "    datetime_columns = [\n",
    "        col_name\n",
    "        for col_name in df.columns\n",
    "        if col_name.startswith('datetime')\n",
    "    ]\n",
    "\n",
    "    df_date = pd.DataFrame() #(dtypes=[['datetime','uint8','uint8','uint8','uint16']])\n",
    "    for col_name in datetime_columns:\n",
    "        #df_date[col_name],\n",
    "        #df_date['number_weekday_{}'.format(col_name)],\n",
    "        #df_date['number_month_{}'.format(col_name)],\n",
    "        #df_date['number_day_{}'.format(col_name)],\n",
    "        #df_date['number_hour_{}'.format(col_name)],\n",
    "        #df_date['number_hour_of_week_{}'.format(col_name)],\n",
    "        #df_date['number_minute_of_day_{}'.format(col_name)] = \n",
    "        df[col_name].apply(lambda x: parse_dt(x)[0] )\n",
    "        \n",
    "        #df_date[col_name] = a[0]\n",
    "        #df_date['number_weekday_{}'.format(col_name)] = df_date[col_name].apply(lambda x: x.weekday())\n",
    "        #df_date['number_month_{}'.format(col_name)] = df_date[col_name].apply(lambda x: x.month)\n",
    "        #df_date['number_day_{}'.format(col_name)] = df_date[col_name].apply(lambda x: x.day)\n",
    "        #f_date['number_hour_{}'.format(col_name)] = df_date[col_name].apply(lambda x: x.hour)\n",
    "        #df_date['number_hour_of_week_{}'.format(col_name)] = df_date[col_name].apply(lambda x: x.hour + x.weekday() * 24)\n",
    "        #df_date['number_minute_of_day_{}'.format(col_name)] = df_date[col_name].apply(lambda x: x.minute + x.hour * 60)        \n",
    "        \n",
    "    return transform_ds(df_date)\n",
    "\n",
    "\"\"\"\n",
    "apply(lambda x: parse_dt(x)) (FAST):\n",
    "<class 'pandas.core.frame.DataFrame'>\n",
    "RangeIndex: 143525 entries, 0 to 143524\n",
    "Columns: 427 entries, number_weekday_datetime_0 to datetime_90\n",
    "dtypes: datetime64[ns](90), float32(337)\n",
    "memory usage: 283.1 MB\n",
    "Wall time: 6min 16s\n",
    "\n",
    "pd.to_datetime (SLOW):\n",
    "<class 'pandas.core.frame.DataFrame'>\n",
    "RangeIndex: 143525 entries, 0 to 143524\n",
    "Columns: 630 entries, number_weekday_datetime_0 to datetime_90\n",
    "dtypes: datetime64[ns](90), int16(174), int8(366)\n",
    "memory usage: 196.3 MB\n",
    "Wall time: 8min 34s\n",
    "\"\"\"\n",
    "\n",
    "#df_dates = transform_datetime_features(df_opt)\n",
    "#df_dates.info(memory_usage='deep')\n",
    "str(datetime.MINYEAR).rjust(4,'0')\n",
    "str(20183).rjust(4,'0')"
   ]
  },
  {
   "cell_type": "code",
   "execution_count": 375,
   "metadata": {},
   "outputs": [
    {
     "data": {
      "text/plain": [
       "'0.23.0'"
      ]
     },
     "execution_count": 375,
     "metadata": {},
     "output_type": "execute_result"
    }
   ],
   "source": [
    "#df_opt['datetime_3']\n",
    "#d = pd.DataFrame(dtype=[['datetime','uint8','uint8','uint8','uint8','uint8','uint16']])\n",
    "#type(df_opt['datetime_0'])\n",
    "#pd.Series((None,None,None,None,None,None,None))\n",
    "pd.__version__"
   ]
  },
  {
   "cell_type": "code",
   "execution_count": 14,
   "metadata": {},
   "outputs": [
    {
     "name": "stdout",
     "output_type": "stream",
     "text": [
      "<class 'pandas.core.frame.DataFrame'>\n",
      "RangeIndex: 50000 entries, 0 to 49999\n",
      "Columns: 1345 entries, onehot_string_0=МВС to number_day_datetime_66\n",
      "dtypes: category(121), float32(740), int16(83), int32(1), int8(400)\n",
      "memory usage: 182.1 MB\n",
      "Wall time: 30.9 s\n"
     ]
    }
   ],
   "source": [
    "df_opt[df_dates.columns] = df_dates\n",
    "df_opt.info(memory_usage='deep')"
   ]
  },
  {
   "cell_type": "code",
   "execution_count": 9,
   "metadata": {},
   "outputs": [],
   "source": [
    "opt_dates = transform_ds(pd.DataFrame())\n",
    "#df_dates.info(memory_usage='deep')\n",
    "#df_dates.head()"
   ]
  },
  {
   "cell_type": "code",
   "execution_count": 37,
   "metadata": {},
   "outputs": [
    {
     "name": "stdout",
     "output_type": "stream",
     "text": [
      "<class 'pandas.core.frame.DataFrame'>\n",
      "Index: 0 entries\n",
      "Empty DataFrame"
     ]
    },
    {
     "data": {
      "text/html": [
       "<div>\n",
       "<style scoped>\n",
       "    .dataframe tbody tr th:only-of-type {\n",
       "        vertical-align: middle;\n",
       "    }\n",
       "\n",
       "    .dataframe tbody tr th {\n",
       "        vertical-align: top;\n",
       "    }\n",
       "\n",
       "    .dataframe thead th {\n",
       "        text-align: right;\n",
       "    }\n",
       "</style>\n",
       "<table border=\"1\" class=\"dataframe\">\n",
       "  <thead>\n",
       "    <tr style=\"text-align: right;\">\n",
       "      <th></th>\n",
       "    </tr>\n",
       "  </thead>\n",
       "  <tbody>\n",
       "  </tbody>\n",
       "</table>\n",
       "</div>"
      ],
      "text/plain": [
       "Empty DataFrame\n",
       "Columns: []\n",
       "Index: []"
      ]
     },
     "execution_count": 37,
     "metadata": {},
     "output_type": "execute_result"
    }
   ],
   "source": [
    "df_opt.info(memory_usage='deep')\n",
    "df_opt.head()"
   ]
  },
  {
   "cell_type": "code",
   "execution_count": null,
   "metadata": {},
   "outputs": [],
   "source": [
    "%%time\n",
    "df_int = df.select_dtypes(include=['int','int64'])\n",
    "df_opt = df_int.apply(pd.to_numeric, downcast='unsigned')\n",
    "print(df_opt.shape)\n",
    "print(df_int)"
   ]
  },
  {
   "cell_type": "code",
   "execution_count": 50,
   "metadata": {},
   "outputs": [
    {
     "name": "stdout",
     "output_type": "stream",
     "text": [
      "Wall time: 558 ms\n"
     ]
    }
   ],
   "source": [
    "df_float = df.select_dtypes(include=['float'])\n",
    "df_opt = pd.concat( [df_opt, df_float.apply(pd.to_numeric, downcast='float')], axis=1)\n",
    "print(df_opt.shape)"
   ]
  },
  {
   "cell_type": "code",
   "execution_count": null,
   "metadata": {},
   "outputs": [],
   "source": [
    "for col in df.columns:\n",
    "    print(df.dtypes[col])"
   ]
  },
  {
   "cell_type": "code",
   "execution_count": 10,
   "metadata": {},
   "outputs": [
    {
     "name": "stdout",
     "output_type": "stream",
     "text": [
      "<class 'pandas.core.frame.DataFrame'>\n",
      "RangeIndex: 10000 entries, 0 to 9999\n",
      "Columns: 878 entries, number_0 to line_id\n",
      "dtypes: float64(753), int64(2), object(123)\n",
      "memory usage: 111.4 MB\n"
     ]
    }
   ],
   "source": [
    "def estimate_rows( file_name ):\n",
    "    nrows = 200\n",
    "    test_file_name = 'test_row_count.csv'\n",
    "\n",
    "    file_size = os.path.getsize(file_name)\n",
    "    df = pd.read_csv(file_name, nrows=nrows)\n",
    "    df.to_csv(test_file_name, header=False)\n",
    "    row_size = os.path.getsize(test_file_name) / nrows\n",
    "    rows = file_size / row_size\n",
    "    size = rows * sys.getsizeof(df) / nrows\n",
    "    return { 'rows': int(rows), 'row_size': int(row_size), 'total_size': int(size) }\n",
    "\n",
    "#estimate_rows(r'..\\check_1_r\\train.csv')"
   ]
  },
  {
   "cell_type": "code",
   "execution_count": 14,
   "metadata": {},
   "outputs": [],
   "source": [
    "from sklearn.preprocessing import StandardScaler\n",
    "scaler = StandardScaler()\n",
    "scaler.transform()"
   ]
  },
  {
   "cell_type": "code",
   "execution_count": 4,
   "metadata": {},
   "outputs": [
    {
     "name": "stdout",
     "output_type": "stream",
     "text": [
      "dict_keys(['alpha', 'criterion', 'init', 'learning_rate', 'loss', 'max_depth', 'max_features', 'max_leaf_nodes', 'min_impurity_decrease', 'min_impurity_split', 'min_samples_leaf', 'min_samples_split', 'min_weight_fraction_leaf', 'n_estimators', 'presort', 'random_state', 'subsample', 'verbose', 'warm_start'])\n",
      "\n",
      "dict_keys(['criterion', 'init', 'learning_rate', 'loss', 'max_depth', 'max_features', 'max_leaf_nodes', 'min_impurity_decrease', 'min_impurity_split', 'min_samples_leaf', 'min_samples_split', 'min_weight_fraction_leaf', 'n_estimators', 'presort', 'random_state', 'subsample', 'verbose', 'warm_start'])\n"
     ]
    }
   ],
   "source": [
    "from sklearn.ensemble import GradientBoostingRegressor, GradientBoostingClassifier\n",
    "reg = GradientBoostingRegressor()\n",
    "cls = GradientBoostingClassifier()\n",
    "print( reg.get_params().keys() )\n",
    "print()\n",
    "print( cls.get_params().keys() )"
   ]
  },
  {
   "cell_type": "code",
   "execution_count": 8,
   "metadata": {},
   "outputs": [],
   "source": [
    "from sklearn.model_selection import GridSearchCV\n",
    "#?GridSearchCV\n",
    "?GradientBoostingRegressor"
   ]
  },
  {
   "cell_type": "code",
   "execution_count": null,
   "metadata": {},
   "outputs": [],
   "source": [
    "import smtplib\n",
    "from email.mime.text import MIMEText\n",
    "\n",
    "msg = MIMEText('test')\n",
    "msg['Subject'] = 'subj'\n",
    "msg['From'] = 'pomka@yandex.ru'\n",
    "msg['To'] = 'pomka@yandex.ru'\n",
    "\n",
    "HOST = \"smtp.yandex.ru\"\n",
    "server = smtplib.SMTP(HOST)\n",
    "\n",
    "username = 'pomka'\n",
    "server.starttls()\n",
    "server.login(username, input())\n",
    "server.sendmail(msg['From'], msg['To'], msg.as_string())\n",
    "server.quit()\n"
   ]
  },
  {
   "cell_type": "code",
   "execution_count": 146,
   "metadata": {},
   "outputs": [
    {
     "name": "stdout",
     "output_type": "stream",
     "text": [
      "101\n",
      "(10000, 100)\n",
      "Wall time: 97 ms\n"
     ]
    }
   ],
   "source": [
    "data_cols = rnd_cols.copy()\n",
    "data_cols.append('zero')\n",
    "#from sklearn.decomposition import PCA\n",
    "#pca = PCA()\n",
    "#pca.fit_transform(df)\n",
    "#pca.explained_variance_ratio_\n",
    "from sklearn.feature_selection import VarianceThreshold # mutual_info_regression\n",
    "fs = VarianceThreshold(0.001)\n",
    "a2 = fs.fit_transform(df[data_cols])\n",
    "print(len(fs.variances_))\n",
    "print(a2.shape)\n",
    "#print( df.columns )\n",
    "#GOOD:\n",
    "#mir = mutual_info_regression(df[rnd_cols], df['multi']) !\n",
    "#print(mir)"
   ]
  },
  {
   "cell_type": "code",
   "execution_count": 274,
   "metadata": {},
   "outputs": [
    {
     "name": "stdout",
     "output_type": "stream",
     "text": [
      "Wall time: 60 ms\n"
     ]
    }
   ],
   "source": [
    "%%time\n",
    "import numpy as np\n",
    "import pandas as pd\n",
    "\n",
    "rows = 10**4\n",
    "cols = 100\n",
    "a = np.random.randn(rows, cols)\n",
    "rnd_cols = list(map( str, range(1,cols+1) ))\n",
    "#print(rnd_cols)\n",
    "df = pd.DataFrame(a, columns=rnd_cols)\n",
    "\n",
    "#.corr()\n",
    "df['depend'] = (df['1']+df['2']) / (df['3'] * df['4'])\n",
    "df['zero'] = np.zeros(rows)\n",
    "#df.corr()"
   ]
  },
  {
   "cell_type": "code",
   "execution_count": 275,
   "metadata": {},
   "outputs": [
    {
     "name": "stdout",
     "output_type": "stream",
     "text": [
      "[1.51731528e-02 2.53584204e-02 1.91260518e-01 2.00762977e-01\n",
      " 0.00000000e+00 1.64250667e-03 5.27545230e-03 6.24725045e-04\n",
      " 6.96821059e-03 4.34816234e-03 3.10594215e-03 2.90278956e-03\n",
      " 4.95792394e-03 1.83537265e-03 0.00000000e+00 0.00000000e+00\n",
      " 0.00000000e+00 5.48026515e-03 4.42373671e-03 0.00000000e+00\n",
      " 0.00000000e+00 1.23407463e-02 0.00000000e+00 0.00000000e+00\n",
      " 0.00000000e+00 4.14097332e-03 0.00000000e+00 0.00000000e+00\n",
      " 0.00000000e+00 8.71566569e-06 1.07249325e-03 6.48311155e-03\n",
      " 0.00000000e+00 0.00000000e+00 5.91902407e-03 0.00000000e+00\n",
      " 5.29046719e-04 0.00000000e+00 0.00000000e+00 1.14319830e-02\n",
      " 2.85028431e-04 0.00000000e+00 5.20290373e-04 1.25996574e-02\n",
      " 5.85101942e-03 5.71968048e-03 7.18666610e-03 0.00000000e+00\n",
      " 7.12298741e-03 1.11020072e-02 0.00000000e+00 9.03718597e-03\n",
      " 0.00000000e+00 3.83751310e-03 0.00000000e+00 2.83126395e-03\n",
      " 3.65392741e-04 0.00000000e+00 7.24151081e-03 2.42211544e-03\n",
      " 0.00000000e+00 5.11261156e-03 0.00000000e+00 4.53317687e-03\n",
      " 0.00000000e+00 5.98001266e-03 4.09617070e-03 3.69769051e-04\n",
      " 0.00000000e+00 0.00000000e+00 1.41813756e-02 0.00000000e+00\n",
      " 4.87992856e-03 2.45590173e-03 0.00000000e+00 9.51897930e-03\n",
      " 0.00000000e+00 0.00000000e+00 2.90493080e-03 5.30339605e-03\n",
      " 0.00000000e+00 0.00000000e+00 4.63564311e-03 0.00000000e+00\n",
      " 0.00000000e+00 0.00000000e+00 3.01419748e-03 6.43801940e-03\n",
      " 0.00000000e+00 0.00000000e+00 1.39999908e-02 7.88465787e-04\n",
      " 3.44677749e-03 0.00000000e+00 8.44037933e-03 0.00000000e+00\n",
      " 0.00000000e+00 0.00000000e+00 0.00000000e+00 0.00000000e+00]\n",
      "Wall time: 59.2 s\n"
     ]
    },
    {
     "data": {
      "image/png": "[encoded data removed]",
      "text/plain": [
       "<Figure size 432x288 with 1 Axes>"
      ]
     },
     "metadata": {},
     "output_type": "display_data"
    }
   ],
   "source": [
    "%%time\n",
    "from sklearn.feature_selection import mutual_info_regression\n",
    "mir = mutual_info_regression(df[rnd_cols], df['depend'])\n",
    "print(mir)\n",
    "plt.plot(mir)"
   ]
  },
  {
   "cell_type": "code",
   "execution_count": 278,
   "metadata": {},
   "outputs": [
    {
     "name": "stdout",
     "output_type": "stream",
     "text": [
      "Index(['1', '2', '3', '4', '9', '22', '40', '44', '47', '49', '50', '52', '59',\n",
      "       '71', '76', '91', '95'],\n",
      "      dtype='object')\n"
     ]
    }
   ],
   "source": [
    "print(df[rnd_cols].columns[mir>np.mean(mir)]) # + 1*np.std(mir)])"
   ]
  },
  {
   "cell_type": "code",
   "execution_count": 117,
   "metadata": {},
   "outputs": [
    {
     "name": "stdout",
     "output_type": "stream",
     "text": [
      "[0.43157357 0.41050478 0.01160561 0.01198137 0.01318509 0.0118979\n",
      " 0.01253751 0.01172323 0.02204601 0.01072911 0.01056558]\n"
     ]
    }
   ],
   "source": [
    "print(mir[mir > 0.01])"
   ]
  },
  {
   "cell_type": "code",
   "execution_count": 419,
   "metadata": {},
   "outputs": [
    {
     "name": "stdout",
     "output_type": "stream",
     "text": [
      "Wall time: 3.44 s\n"
     ]
    }
   ],
   "source": [
    "%%time\n",
    "df_unique = df_opt.apply(lambda x: x.nunique())\n",
    "\n"
   ]
  },
  {
   "cell_type": "code",
   "execution_count": 407,
   "metadata": {},
   "outputs": [],
   "source": [
    "df_unique.sort_values('counts', inplace=True)"
   ]
  },
  {
   "cell_type": "code",
   "execution_count": 423,
   "metadata": {
    "collapsed": true
   },
   "outputs": [
    {
     "data": {
      "text/plain": [
       "number_12     14\n",
       "number_5      20\n",
       "number_6      20\n",
       "number_9      20\n",
       "number_13      4\n",
       "number_14     13\n",
       "number_19      3\n",
       "number_22     15\n",
       "number_23     15\n",
       "number_25     11\n",
       "number_29      3\n",
       "number_33      9\n",
       "number_37     17\n",
       "number_41     10\n",
       "number_45      6\n",
       "number_49      3\n",
       "number_53      6\n",
       "number_57      9\n",
       "number_61     16\n",
       "number_69      7\n",
       "number_73      7\n",
       "number_77      6\n",
       "number_81     10\n",
       "number_85      9\n",
       "number_89      7\n",
       "number_95     11\n",
       "number_106    17\n",
       "number_107    16\n",
       "number_109    19\n",
       "number_110     9\n",
       "              ..\n",
       "number_666     4\n",
       "number_667     7\n",
       "number_668    13\n",
       "number_672     4\n",
       "number_673     7\n",
       "number_674    13\n",
       "number_681     4\n",
       "number_682     7\n",
       "number_683    13\n",
       "number_693     8\n",
       "number_694    16\n",
       "number_696     4\n",
       "number_697     7\n",
       "number_698    13\n",
       "number_699     4\n",
       "number_700     4\n",
       "number_701     4\n",
       "number_702     4\n",
       "number_703     4\n",
       "number_704     5\n",
       "number_705     9\n",
       "number_711     4\n",
       "number_712     7\n",
       "number_713     8\n",
       "number_726     4\n",
       "number_727     7\n",
       "number_728    13\n",
       "number_741     4\n",
       "number_742     7\n",
       "number_743     9\n",
       "Length: 182, dtype: int64"
      ]
     },
     "execution_count": 423,
     "metadata": {},
     "output_type": "execute_result"
    }
   ],
   "source": [
    "df_unique"
   ]
  },
  {
   "cell_type": "code",
   "execution_count": 424,
   "metadata": {},
   "outputs": [],
   "source": [
    "df_unique = df_unique[df_unique > 2]\n",
    "df_unique = df_unique[df_unique <= 20]\n",
    "df_unique.sort_values(inplace=True)"
   ]
  },
  {
   "cell_type": "code",
   "execution_count": 428,
   "metadata": {},
   "outputs": [
    {
     "data": {
      "text/plain": [
       "3"
      ]
     },
     "execution_count": 428,
     "metadata": {},
     "output_type": "execute_result"
    }
   ],
   "source": [
    "df_unique['number_597']"
   ]
  },
  {
   "cell_type": "code",
   "execution_count": 17,
   "metadata": {},
   "outputs": [
    {
     "data": {
      "text/plain": [
       "['d', 'e']"
      ]
     },
     "execution_count": 17,
     "metadata": {},
     "output_type": "execute_result"
    }
   ],
   "source": [
    "import numpy as np\n",
    "X=[0.6,0.4,0.58,0.1,-1130]\n",
    "m=['a','b','c','d','e']\n",
    "#sorted_scores = sorted(scores)[::-1]\n",
    "#[x for x in X if x>np.mean(X)]\n",
    "m[3:5]"
   ]
  },
  {
   "cell_type": "code",
   "execution_count": 445,
   "metadata": {},
   "outputs": [],
   "source": [
    "df = pd.read_csv(r'..\\check_1_r\\train.csv', nrows=None, low_memory=False)\n",
    "constant_columns = [\n",
    "        col_name\n",
    "        for col_name in df.columns\n",
    "        if df[col_name].nunique() == 1\n",
    "    ]\n",
    "constant_columns"
   ]
  },
  {
   "cell_type": "code",
   "execution_count": 36,
   "metadata": {},
   "outputs": [],
   "source": [
    "import time\n",
    "from zipfile import ZipFile\n",
    "folder = '003-no-ext-libs\\\\'\n",
    "#%cd $folder\n",
    "zip_file_name = folder + time.strftime(\"%Y-%m-%d_%H-%M-%S\", time.localtime()) + '_submission.zip'\n",
    "    \n",
    "files = [\n",
    "    'metadata.json',\n",
    "    'predict.py',\n",
    "    'train.py',\n",
    "    'utils.py']\n",
    "\n",
    "with ZipFile(zip_file_name, mode='w') as submission:\n",
    "    for file in files:\n",
    "        submission.write(folder + file,arcname=file)\n",
    "submission.close()    "
   ]
  },
  {
   "cell_type": "code",
   "execution_count": 59,
   "metadata": {},
   "outputs": [],
   "source": [
    "import pandas as pd\n",
    "df =  pd.read_csv(r'..\\check_3_r\\train.csv')\n",
    "if any(df.isnull()):\n",
    "    df.fillna(-1, inplace=True)\n"
   ]
  },
  {
   "cell_type": "code",
   "execution_count": 61,
   "metadata": {},
   "outputs": [
    {
     "name": "stdout",
     "output_type": "stream",
     "text": [
      "43\n",
      "100 3\n",
      "200 3\n",
      "300 3\n",
      "400 3\n",
      "500 8\n",
      "600 8\n",
      "700 8\n",
      "800 8\n",
      "900 11\n"
     ]
    },
    {
     "data": {
      "text/html": [
       "<div>\n",
       "<style scoped>\n",
       "    .dataframe tbody tr th:only-of-type {\n",
       "        vertical-align: middle;\n",
       "    }\n",
       "\n",
       "    .dataframe tbody tr th {\n",
       "        vertical-align: top;\n",
       "    }\n",
       "\n",
       "    .dataframe thead th {\n",
       "        text-align: right;\n",
       "    }\n",
       "</style>\n",
       "<table border=\"1\" class=\"dataframe\">\n",
       "  <thead>\n",
       "    <tr style=\"text-align: right;\">\n",
       "      <th></th>\n",
       "      <th>datetime_0</th>\n",
       "      <th>id_0</th>\n",
       "      <th>target</th>\n",
       "      <th>number_0</th>\n",
       "      <th>number_1</th>\n",
       "      <th>number_2</th>\n",
       "      <th>number_3</th>\n",
       "      <th>number_4</th>\n",
       "      <th>number_5</th>\n",
       "      <th>number_6</th>\n",
       "      <th>...</th>\n",
       "      <th>number_30</th>\n",
       "      <th>number_31</th>\n",
       "      <th>number_32</th>\n",
       "      <th>number_33</th>\n",
       "      <th>number_34</th>\n",
       "      <th>number_35</th>\n",
       "      <th>number_36</th>\n",
       "      <th>number_37</th>\n",
       "      <th>number_38</th>\n",
       "      <th>line_id</th>\n",
       "    </tr>\n",
       "  </thead>\n",
       "  <tbody>\n",
       "    <tr>\n",
       "      <th>0</th>\n",
       "      <td>2015-01-01</td>\n",
       "      <td>101</td>\n",
       "      <td>0.0</td>\n",
       "      <td>0</td>\n",
       "      <td>0</td>\n",
       "      <td>0</td>\n",
       "      <td>1</td>\n",
       "      <td>0</td>\n",
       "      <td>0</td>\n",
       "      <td>0</td>\n",
       "      <td>...</td>\n",
       "      <td>-1.0</td>\n",
       "      <td>-1.0</td>\n",
       "      <td>1</td>\n",
       "      <td>0</td>\n",
       "      <td>0</td>\n",
       "      <td>0</td>\n",
       "      <td>0</td>\n",
       "      <td>0</td>\n",
       "      <td>0</td>\n",
       "      <td>0</td>\n",
       "    </tr>\n",
       "    <tr>\n",
       "      <th>1</th>\n",
       "      <td>2015-01-01</td>\n",
       "      <td>102</td>\n",
       "      <td>100.0</td>\n",
       "      <td>0</td>\n",
       "      <td>0</td>\n",
       "      <td>0</td>\n",
       "      <td>1</td>\n",
       "      <td>0</td>\n",
       "      <td>0</td>\n",
       "      <td>0</td>\n",
       "      <td>...</td>\n",
       "      <td>-1.0</td>\n",
       "      <td>-1.0</td>\n",
       "      <td>1</td>\n",
       "      <td>0</td>\n",
       "      <td>0</td>\n",
       "      <td>0</td>\n",
       "      <td>0</td>\n",
       "      <td>0</td>\n",
       "      <td>0</td>\n",
       "      <td>1</td>\n",
       "    </tr>\n",
       "    <tr>\n",
       "      <th>2</th>\n",
       "      <td>2015-01-01</td>\n",
       "      <td>103</td>\n",
       "      <td>20400.0</td>\n",
       "      <td>0</td>\n",
       "      <td>0</td>\n",
       "      <td>0</td>\n",
       "      <td>1</td>\n",
       "      <td>0</td>\n",
       "      <td>0</td>\n",
       "      <td>0</td>\n",
       "      <td>...</td>\n",
       "      <td>-1.0</td>\n",
       "      <td>-1.0</td>\n",
       "      <td>1</td>\n",
       "      <td>0</td>\n",
       "      <td>0</td>\n",
       "      <td>0</td>\n",
       "      <td>0</td>\n",
       "      <td>0</td>\n",
       "      <td>0</td>\n",
       "      <td>2</td>\n",
       "    </tr>\n",
       "    <tr>\n",
       "      <th>3</th>\n",
       "      <td>2015-01-01</td>\n",
       "      <td>104</td>\n",
       "      <td>0.0</td>\n",
       "      <td>0</td>\n",
       "      <td>0</td>\n",
       "      <td>0</td>\n",
       "      <td>1</td>\n",
       "      <td>0</td>\n",
       "      <td>0</td>\n",
       "      <td>0</td>\n",
       "      <td>...</td>\n",
       "      <td>-1.0</td>\n",
       "      <td>-1.0</td>\n",
       "      <td>1</td>\n",
       "      <td>0</td>\n",
       "      <td>0</td>\n",
       "      <td>0</td>\n",
       "      <td>0</td>\n",
       "      <td>0</td>\n",
       "      <td>0</td>\n",
       "      <td>3</td>\n",
       "    </tr>\n",
       "    <tr>\n",
       "      <th>4</th>\n",
       "      <td>2015-01-01</td>\n",
       "      <td>105</td>\n",
       "      <td>0.0</td>\n",
       "      <td>0</td>\n",
       "      <td>0</td>\n",
       "      <td>0</td>\n",
       "      <td>1</td>\n",
       "      <td>0</td>\n",
       "      <td>0</td>\n",
       "      <td>0</td>\n",
       "      <td>...</td>\n",
       "      <td>-1.0</td>\n",
       "      <td>-1.0</td>\n",
       "      <td>1</td>\n",
       "      <td>0</td>\n",
       "      <td>0</td>\n",
       "      <td>0</td>\n",
       "      <td>0</td>\n",
       "      <td>0</td>\n",
       "      <td>0</td>\n",
       "      <td>4</td>\n",
       "    </tr>\n",
       "  </tbody>\n",
       "</table>\n",
       "<p>5 rows × 43 columns</p>\n",
       "</div>"
      ],
      "text/plain": [
       "   datetime_0  id_0   target  number_0  number_1  number_2  number_3  \\\n",
       "0  2015-01-01   101      0.0         0         0         0         1   \n",
       "1  2015-01-01   102    100.0         0         0         0         1   \n",
       "2  2015-01-01   103  20400.0         0         0         0         1   \n",
       "3  2015-01-01   104      0.0         0         0         0         1   \n",
       "4  2015-01-01   105      0.0         0         0         0         1   \n",
       "\n",
       "   number_4  number_5  number_6   ...     number_30  number_31  number_32  \\\n",
       "0         0         0         0   ...          -1.0       -1.0          1   \n",
       "1         0         0         0   ...          -1.0       -1.0          1   \n",
       "2         0         0         0   ...          -1.0       -1.0          1   \n",
       "3         0         0         0   ...          -1.0       -1.0          1   \n",
       "4         0         0         0   ...          -1.0       -1.0          1   \n",
       "\n",
       "   number_33  number_34  number_35  number_36  number_37  number_38  line_id  \n",
       "0          0          0          0          0          0          0        0  \n",
       "1          0          0          0          0          0          0        1  \n",
       "2          0          0          0          0          0          0        2  \n",
       "3          0          0          0          0          0          0        3  \n",
       "4          0          0          0          0          0          0        4  \n",
       "\n",
       "[5 rows x 43 columns]"
      ]
     },
     "execution_count": 61,
     "metadata": {},
     "output_type": "execute_result"
    }
   ],
   "source": [
    "print(len(df.columns))\n",
    "for n in range(100,1000,100):\n",
    "    df_X = df[:n]\n",
    "    df_unique = df_X.apply(lambda x: x.nunique())\n",
    "    df_const = df_unique[df_unique == 1]\n",
    "\n",
    "    print(n, len(df_X.columns) - len(df_const))\n",
    "df.head()"
   ]
  },
  {
   "cell_type": "code",
   "execution_count": 53,
   "metadata": {},
   "outputs": [
    {
     "name": "stdout",
     "output_type": "stream",
     "text": [
      "ALL FEATURES DROPPED, STOPPING\n",
      "Traceback (most recent call last):\n",
      "  File \"<ipython-input-53-35896b46df95>\", line 4, in <module>\n",
      "    raise Exception('ALL FEATURES DROPPED, STOPPING')\n",
      "Exception: ALL FEATURES DROPPED, STOPPING\n",
      "\n"
     ]
    }
   ],
   "source": [
    "import sys\n",
    "import traceback\n",
    "try:\n",
    "    raise Exception('ALL FEATURES DROPPED, STOPPING')\n",
    "except BaseException as e:\n",
    "    print(e)\n",
    "    print(traceback.format_exc())\n"
   ]
  },
  {
   "cell_type": "code",
   "execution_count": 6,
   "metadata": {},
   "outputs": [
    {
     "data": {
      "text/plain": [
       "'GradientBoostingClassifier'"
      ]
     },
     "execution_count": 6,
     "metadata": {},
     "output_type": "execute_result"
    }
   ],
   "source": [
    "from sklearn.ensemble import GradientBoostingClassifier\n",
    "est = GradientBoostingClassifier()\n",
    "type(est)\n"
   ]
  },
  {
   "cell_type": "code",
   "execution_count": 5,
   "metadata": {},
   "outputs": [
    {
     "name": "stdout",
     "output_type": "stream",
     "text": [
      "6CB3D8DDB833D7579B361EC7A0127654\n"
     ]
    }
   ],
   "source": [
    "import hashlib\n",
    "columns = b'dwefwefwefwe'\n",
    "hash_digest = hashlib.md5(columns).hexdigest()\n",
    "print(hash_digest.upper())"
   ]
  }
 ],
 "metadata": {
  "kernelspec": {
   "display_name": "Python 3",
   "language": "python",
   "name": "python3"
  },
  "language_info": {
   "codemirror_mode": {
    "name": "ipython",
    "version": 3
   },
   "file_extension": ".py",
   "mimetype": "text/x-python",
   "name": "python",
   "nbconvert_exporter": "python",
   "pygments_lexer": "ipython3",
   "version": "3.6.5"
  }
 },
 "nbformat": 4,
 "nbformat_minor": 2
}
