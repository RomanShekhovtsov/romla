{
 "cells": [
  {
   "cell_type": "code",
   "execution_count": 1,
   "metadata": {},
   "outputs": [],
   "source": [
    "import pandas as pd\n",
    "import numpy as np\n",
    "import sys\n",
    "import lightgbm as lgb\n",
    "from sklearn.metrics import mean_squared_error"
   ]
  },
  {
   "cell_type": "code",
   "execution_count": 20,
   "metadata": {},
   "outputs": [],
   "source": [
    "cols = 4\n",
    "col_names = []\n",
    "for i in range(cols):\n",
    "    col_names.append( 'r' + str(i+1))\n",
    "\n",
    "rows = 100000\n",
    "train_rows = int(rows * 0.75)\n",
    "\n",
    "df = pd.DataFrame(np.random.randn(rows, cols), columns=col_names)\n",
    "X = df\n",
    "y = df.r1/(df.r2 + 0.0000000000000001) + df.r3 * df.r4\n",
    "\n",
    "X_train = X[:train_rows]\n",
    "y_train = y[:train_rows]\n",
    "X_test = X[train_rows:]\n",
    "y_test = y[train_rows:]\n"
   ]
  },
  {
   "cell_type": "code",
   "execution_count": 21,
   "metadata": {},
   "outputs": [],
   "source": [
    "mode = 'regression'\n",
    "params =  {\n",
    "\t'task': 'train',\n",
    "\t'boosting_type': 'gbdt',\n",
    "\t'objective': 'regression' if mode == 'regression' else 'binary',\n",
    "\t'metric': 'rmse',\n",
    "\t\"learning_rate\": 0.01,\n",
    "\t\"num_leaves\": 200,\n",
    "\t\"feature_fraction\": 0.70,\n",
    "\t\"bagging_fraction\": 0.70,\n",
    "\t'bagging_freq': 4,\n",
    "    \"verbosity\" : -1,\n",
    "\t\"reg_alpha\": 0.3,\n",
    "\t\"reg_lambda\": 0.1,\n",
    "\t#\"min_split_gain\":0.2,\n",
    "\t\"min_child_weight\":10,\n",
    "\t'zero_as_missing':True,\n",
    "    'num_threads': 4,\n",
    "    }"
   ]
  },
  {
   "cell_type": "code",
   "execution_count": 22,
   "metadata": {},
   "outputs": [
    {
     "name": "stdout",
     "output_type": "stream",
     "text": [
      "137.7106575725666 -0.47051017284695573\n",
      "137.27575457473847 -0.47051017284695573\n",
      "135.88828113718765 -0.47051017284695573\n",
      "134.70662125004534 -0.47051017284695573\n",
      "134.06661579774794 -0.47051017284695573\n",
      "133.85786274744692 -0.47051017284695573\n",
      "133.81059946709385 -0.47051017284695573\n",
      "133.79846605503204 -0.47051017284695573\n",
      "133.79973731991208 -0.47051017284695573\n",
      "early finish at 10 iteration.\n",
      "best score: 133.79846605503204\n"
     ]
    }
   ],
   "source": [
    "prev_rmse = None\n",
    "for d in range(2,16):\n",
    "    #lgb_model = lgb.LGBMModel()\n",
    "    est = lgb.sklearn.LGBMRegressor(max_depth = d)\n",
    "    est.set_params( **params )\n",
    "    est.fit(X_train, y_train)\n",
    "    predict = est.predict( X_test)\n",
    "    mse = mean_squared_error(y_test, predict)\n",
    "    rmse = mse ** 0.5 \n",
    "    print(rmse, np.mean(y_test))\n",
    "    if (not prev_rmse is None) and prev_rmse < rmse:\n",
    "        print('early finish at {} iteration.'.format(d))\n",
    "        break\n",
    "    prev_rmse = rmse\n",
    "    \n",
    "print('best score: {}'.format(prev_rmse))\n",
    "    "
   ]
  },
  {
   "cell_type": "code",
   "execution_count": null,
   "metadata": {},
   "outputs": [],
   "source": [
    "#est.get_params()\n",
    "#params = {'key': [1,2,3] }\n",
    "#param_name = list(params.keys())[0]\n",
    "#param_values = params[param_name]\n",
    "#print(param_values[0])\n",
    "y_test"
   ]
  },
  {
   "cell_type": "code",
   "execution_count": 70,
   "metadata": {},
   "outputs": [],
   "source": []
  }
 ],
 "metadata": {
  "kernelspec": {
   "display_name": "Python 3",
   "language": "python",
   "name": "python3"
  },
  "language_info": {
   "codemirror_mode": {
    "name": "ipython",
    "version": 3
   },
   "file_extension": ".py",
   "mimetype": "text/x-python",
   "name": "python",
   "nbconvert_exporter": "python",
   "pygments_lexer": "ipython3",
   "version": "3.6.5"
  }
 },
 "nbformat": 4,
 "nbformat_minor": 2
}
