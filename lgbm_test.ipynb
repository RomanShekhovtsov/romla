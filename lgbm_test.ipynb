{
 "cells": [
  {
   "cell_type": "code",
   "execution_count": 12,
   "metadata": {},
   "outputs": [],
   "source": [
    "import pandas as pd\n",
    "import numpy as np\n",
    "import sys\n",
    "import lightgbm as lgb\n",
    "from sklearn.metrics import mean_squared_error"
   ]
  },
  {
   "cell_type": "code",
   "execution_count": 40,
   "metadata": {},
   "outputs": [],
   "source": [
    "cols = 4\n",
    "col_names = []\n",
    "for i in range(cols):\n",
    "    col_names.append( 'r' + str(i+1))\n",
    "\n",
    "rows = 10000\n",
    "train_rows = int(rows * 0.75)\n",
    "\n",
    "df = pd.DataFrame(np.random.randn(rows, cols), columns=col_names)\n",
    "X = df\n",
    "y = df.r1/df.r2  # + 0.0000000000000001) + df.r3 * df.r4\n",
    "\n",
    "X_train = X[:train_rows]\n",
    "y_train = y[:train_rows]\n",
    "X_test = X[train_rows:]\n",
    "y_test = y[train_rows:]\n"
   ]
  },
  {
   "cell_type": "code",
   "execution_count": 60,
   "metadata": {},
   "outputs": [
    {
     "data": {
      "text/plain": [
       "{'task': 'train',\n",
       " 'boosting_type': 'gbdt',\n",
       " 'objective': 'regression',\n",
       " 'metric': 'rmse',\n",
       " 'learning_rate': 0.01,\n",
       " 'num_leaves': 200,\n",
       " 'feature_fraction': 0.7,\n",
       " 'bagging_fraction': 0.7,\n",
       " 'bagging_freq': 4,\n",
       " 'max_depth': -1,\n",
       " 'verbosity': -1,\n",
       " 'reg_alpha': 0.3,\n",
       " 'reg_lambda': 0.1,\n",
       " 'min_child_weight': 10,\n",
       " 'zero_as_missing': True,\n",
       " 'num_threads': 4}"
      ]
     },
     "execution_count": 60,
     "metadata": {},
     "output_type": "execute_result"
    }
   ],
   "source": [
    "mode = 'regression'\n",
    "params =  {\n",
    "\t'task': 'train',\n",
    "\t'boosting_type': 'gbdt',\n",
    "\t'objective': 'regression' if mode == 'regression' else 'binary',\n",
    "\t'metric': 'rmse',\n",
    "\t\"learning_rate\": 0.01,\n",
    "\t\"num_leaves\": 200,\n",
    "\t\"feature_fraction\": 0.70,\n",
    "\t\"bagging_fraction\": 0.70,\n",
    "\t'bagging_freq': 4,\n",
    "\t\"max_depth\": -1,\n",
    "        \"verbosity\" : -1,\n",
    "\t\"reg_alpha\": 0.3,\n",
    "\t\"reg_lambda\": 0.1,\n",
    "\t#\"min_split_gain\":0.2,\n",
    "\t\"min_child_weight\":10,\n",
    "\t'zero_as_missing':True,\n",
    "        'num_threads': 4,\n",
    "    }\n",
    "\n"
   ]
  },
  {
   "cell_type": "code",
   "execution_count": 61,
   "metadata": {},
   "outputs": [
    {
     "name": "stdout",
     "output_type": "stream",
     "text": [
      "46.05779102175627\n",
      "43.515665264595775\n",
      "44.41246281524321\n",
      "early finish at  4\n"
     ]
    }
   ],
   "source": [
    "prev_rmse = None\n",
    "for d in range(2,16):\n",
    "    #lgb_model = lgb.LGBMModel()\n",
    "    est = lgb.LGBMRegressor(max_depth = d)\n",
    "    est.fit(X_train, y_train)\n",
    "    predict = est.predict( X_test)\n",
    "    mse = mean_squared_error(y_test, predict)\n",
    "    rmse = mse ** 0.5\n",
    "    print(rmse)\n",
    "    if (not prev_rmse is None) and prev_rmse < rmse:\n",
    "        print('early finish at ', d)\n",
    "        break\n",
    "    prev_rmse = rmse"
   ]
  },
  {
   "cell_type": "code",
   "execution_count": 62,
   "metadata": {},
   "outputs": [
    {
     "data": {
      "text/plain": [
       "{'boosting_type': 'gbdt',\n",
       " 'class_weight': None,\n",
       " 'colsample_bytree': 1.0,\n",
       " 'importance_type': 'split',\n",
       " 'learning_rate': 0.1,\n",
       " 'max_depth': 4,\n",
       " 'min_child_samples': 20,\n",
       " 'min_child_weight': 0.001,\n",
       " 'min_split_gain': 0.0,\n",
       " 'n_estimators': 100,\n",
       " 'n_jobs': -1,\n",
       " 'num_leaves': 31,\n",
       " 'objective': None,\n",
       " 'random_state': None,\n",
       " 'reg_alpha': 0.0,\n",
       " 'reg_lambda': 0.0,\n",
       " 'silent': True,\n",
       " 'subsample': 1.0,\n",
       " 'subsample_for_bin': 200000,\n",
       " 'subsample_freq': 0}"
      ]
     },
     "execution_count": 62,
     "metadata": {},
     "output_type": "execute_result"
    }
   ],
   "source": [
    "est.get_params()\n",
    "#params = {'key': [1,2,3] }\n",
    "#param_name = list(params.keys())[0]\n",
    "#param_values = params[param_name]\n",
    "#print(param_values[0])"
   ]
  },
  {
   "cell_type": "code",
   "execution_count": 37,
   "metadata": {},
   "outputs": [
    {
     "data": {
      "text/html": [
       "<div>\n",
       "<style scoped>\n",
       "    .dataframe tbody tr th:only-of-type {\n",
       "        vertical-align: middle;\n",
       "    }\n",
       "\n",
       "    .dataframe tbody tr th {\n",
       "        vertical-align: top;\n",
       "    }\n",
       "\n",
       "    .dataframe thead th {\n",
       "        text-align: right;\n",
       "    }\n",
       "</style>\n",
       "<table border=\"1\" class=\"dataframe\">\n",
       "  <thead>\n",
       "    <tr style=\"text-align: right;\">\n",
       "      <th></th>\n",
       "      <th>r1</th>\n",
       "      <th>r2</th>\n",
       "      <th>r3</th>\n",
       "      <th>r4</th>\n",
       "    </tr>\n",
       "  </thead>\n",
       "  <tbody>\n",
       "    <tr>\n",
       "      <th>0</th>\n",
       "      <td>0.164489</td>\n",
       "      <td>-0.904089</td>\n",
       "      <td>1.534742</td>\n",
       "      <td>0.698192</td>\n",
       "    </tr>\n",
       "    <tr>\n",
       "      <th>1</th>\n",
       "      <td>0.971173</td>\n",
       "      <td>0.606685</td>\n",
       "      <td>-0.977056</td>\n",
       "      <td>-1.847631</td>\n",
       "    </tr>\n",
       "    <tr>\n",
       "      <th>2</th>\n",
       "      <td>-1.783051</td>\n",
       "      <td>-1.537277</td>\n",
       "      <td>-0.680089</td>\n",
       "      <td>1.497183</td>\n",
       "    </tr>\n",
       "    <tr>\n",
       "      <th>3</th>\n",
       "      <td>-0.275111</td>\n",
       "      <td>-0.579068</td>\n",
       "      <td>2.271152</td>\n",
       "      <td>-0.302265</td>\n",
       "    </tr>\n",
       "    <tr>\n",
       "      <th>4</th>\n",
       "      <td>0.582036</td>\n",
       "      <td>-1.002653</td>\n",
       "      <td>-0.298985</td>\n",
       "      <td>-0.494816</td>\n",
       "    </tr>\n",
       "  </tbody>\n",
       "</table>\n",
       "</div>"
      ],
      "text/plain": [
       "         r1        r2        r3        r4\n",
       "0  0.164489 -0.904089  1.534742  0.698192\n",
       "1  0.971173  0.606685 -0.977056 -1.847631\n",
       "2 -1.783051 -1.537277 -0.680089  1.497183\n",
       "3 -0.275111 -0.579068  2.271152 -0.302265\n",
       "4  0.582036 -1.002653 -0.298985 -0.494816"
      ]
     },
     "execution_count": 37,
     "metadata": {},
     "output_type": "execute_result"
    }
   ],
   "source": [
    "df.head()"
   ]
  }
 ],
 "metadata": {
  "kernelspec": {
   "display_name": "Python 3",
   "language": "python",
   "name": "python3"
  },
  "language_info": {
   "codemirror_mode": {
    "name": "ipython",
    "version": 3
   },
   "file_extension": ".py",
   "mimetype": "text/x-python",
   "name": "python",
   "nbconvert_exporter": "python",
   "pygments_lexer": "ipython3",
   "version": "3.6.5"
  }
 },
 "nbformat": 4,
 "nbformat_minor": 2
}
