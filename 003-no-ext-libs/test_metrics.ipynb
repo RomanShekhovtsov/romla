{
 "cells": [
  {
   "cell_type": "code",
   "execution_count": 8,
   "metadata": {},
   "outputs": [],
   "source": [
    "import pandas as pd\n",
    "import os\n",
    "import uuid\n",
    "\n",
    "from utils import *\n",
    "\n",
    "def log(*args):\n",
    "    print(*args)\n",
    "\n",
    "ROOT_METRICS_FOLDER = 'metrics/'\n",
    "run_id = str(uuid.uuid4())\n",
    "\n",
    "\n",
    "def save_metrics(metrics, subfolder):\n",
    "\n",
    "    df = pd.DataFrame(metrics, index=(1,))\n",
    "    df['run_id'] = 'run_id'\n",
    "    columns = ''.join(df.columns)\n",
    "    folder = 'metrics/' + subfolder + '/'\n",
    "\n",
    "    if not os.path.exists(folder):\n",
    "        os.makedirs(folder)\n",
    "    \n",
    "    log(columns, hash(columns))    \n",
    "    file_name = folder + str(hex(hash(columns))).upper()[2:] + '.csv'\n",
    "    file_exists = os.path.exists(file_name)\n",
    "    df.to_csv(file_name, mode='a', header=not file_exists, index=False, sep=';')\n",
    "    log('metrics {} to file \"{}\"'.format('appended' if file_exists else 'saved', file_name))\n",
    "\n",
    "\n",
    "def load_metrics(subfolder):\n",
    "    folder = ROOT_METRICS_FOLDER + subfolder + '/'\n",
    "    if not os.path.exists(folder):\n",
    "        log('folder \"{}\" doesn''t exists'.format(folder))\n",
    "        return None\n",
    "\n",
    "    files = os.listdir(path=folder)\n",
    "    log('metrics files:', files)\n",
    "    df_all = pd.DataFrame()\n",
    "\n",
    "    for file_name in files:\n",
    "        df = pd.read_csv(folder + file_name, sep=';')\n",
    "        df_all = pd.concat((df_all, df), sort=False)\n",
    "\n",
    "    return df_all"
   ]
  },
  {
   "cell_type": "code",
   "execution_count": 5,
   "metadata": {},
   "outputs": [
    {
     "name": "stdout",
     "output_type": "stream",
     "text": [
      "metrics files: ['19D76B6CE22F572E.csv', '20080C46DC42D4B6.csv', '2F10A43F9AC761C1.csv', '405E2643B79F2212.csv', '53A3F1CF3D0B8A85.csv', '62994FDB5426EFDF.csv', '6466CBAD4AE6EA1E.csv', '865AE83324146C4.csv', 'D3E25BBA40AE753.csv', 'X17F93D58DFCEBE0.csv', 'X200E9D281452FF77.csv', 'X2A609C0E6BAAB070.csv', 'X3D9DEF2D61695C74.csv', 'X3E4D55AFCF2CF26.csv', 'X5597103E70329C7E.csv', 'X5D5AFE31E6B8D2DB.csv', 'X65966DE9ED93B0A7.csv', 'X71139A314DC4A469.csv', 'X76044C75A9D4EFA7.csv', 'X7B98ED2B1AE2BD8D.csv', 'X7EBCB80DFED8B737.csv']\n"
     ]
    }
   ],
   "source": [
    "load_metrics('train').to_excel('all_metrics.xls',index=False)"
   ]
  },
  {
   "cell_type": "code",
   "execution_count": 9,
   "metadata": {},
   "outputs": [
    {
     "name": "stdout",
     "output_type": "stream",
     "text": [
      "abcrun_id -2575571086067397760\n",
      "metrics appended to file \"metrics/m1/X23BE4441BED07480.csv\"\n",
      "abcdrun_id 43190785849313040\n",
      "metrics appended to file \"metrics/m1/9971CA781E4710.csv\"\n",
      "abcrun_id -2575571086067397760\n",
      "metrics appended to file \"metrics/m2/X23BE4441BED07480.csv\"\n",
      "abcdrun_id 43190785849313040\n",
      "metrics appended to file \"metrics/m2/9971CA781E4710.csv\"\n"
     ]
    }
   ],
   "source": [
    "m1 = {'a':1,'b':2,'c':3}\n",
    "m2 = {'a':1,'b':2,'c':3,'d':4}\n",
    "save_metrics(m1,'m1')\n",
    "save_metrics(m2,'m1')\n",
    "save_metrics(m1,'m2')\n",
    "save_metrics(m2,'m2')"
   ]
  }
 ],
 "metadata": {
  "kernelspec": {
   "display_name": "Python 3",
   "language": "python",
   "name": "python3"
  },
  "language_info": {
   "codemirror_mode": {
    "name": "ipython",
    "version": 3
   },
   "file_extension": ".py",
   "mimetype": "text/x-python",
   "name": "python",
   "nbconvert_exporter": "python",
   "pygments_lexer": "ipython3",
   "version": "3.6.5"
  }
 },
 "nbformat": 4,
 "nbformat_minor": 2
}
